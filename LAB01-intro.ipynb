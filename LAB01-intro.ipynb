{
 "cells": [
  {
   "cell_type": "markdown",
   "metadata": {},
   "source": [
    "# Motivations\n",
    "\n",
    "By following the steps in this exercise, you will practice making some plots of [near-real time ocean data from a Seaglider](http://vocal.sams.ac.uk/glider.php?missionid=40&device=sg605) and share a little about your interests with your lab group and instructors.  The reasons this activity is relevant to EOS1505 is:\n",
    "\n",
    "1. The types of plots made here are similar to the reading for next week.  This data is real-world context!\n",
    "2. You will be able to use this notebook to check on the Seaglider occasionally, which will culminate in a project.  The code here can be reused as starter code for your project. (Don't forget to reference it if you use it!)\n",
    "3. You have the chance to practice using the `Blackboard link ->  GitHub Classroom -> HPC Grid -> PDF to Blackboard` workflow used for **some** (but not all) of the assignments in this class.  By completing this assignment, you can verify you have access to all the necessary resources and you can see exactly the same process for submitting other assingments.\n",
    "\n",
    "\n",
    "# Instructions\n",
    "\n",
    "## Prelab:\n",
    "\n",
    "A video walks through a [demonstration of the Prelab](https://web.microsoftstream.com/video/07cd8809-a77a-4bba-b68e-5aa5792a636d).\n",
    "\n",
    "1. After accepting this assignment via the link on Blackboard and cloning your repository to the Bowdoin HPC grid, answer the questions at the beginning of this assignment by typing into the cells as indicated.  If you are comfortable sharing your answers with your lab group, these questions will be a good way to get to know your peers.  \n",
    "2. Save your answers by clicking on the floppy disk image in the upper left corner.\n",
    "\n",
    "## Lab:\n",
    "3. Run the code cells at the end of the notebook to make plots.\n",
    "4. Answer the two discussion questions at the very end of the notebook.\n",
    "5. Save the notebook. \n",
    "6. Save the assignment as a `.pdf` by clicking on the menu items: `File`->`Download as`->`PDF via Latex (.pdf)`.  If that doesn't work, use your web browser's print to `.pdf` functionality to create a `.pdf` of your notebook.\n",
    "7. Upload the `.pdf` to Blackboard.\n",
    "8. ***(Optional)*** Upload your assignment back to GitHub for potential sharing with peers following the separate instructions at the very end of this notebook.\n",
    "\n",
    "***\n"
   ]
  },
  {
   "cell_type": "markdown",
   "metadata": {},
   "source": [
    "# Question 1: Why are you taking this class?"
   ]
  },
  {
   "cell_type": "markdown",
   "metadata": {},
   "source": [
    "Type your answer in this Markdown cell."
   ]
  },
  {
   "cell_type": "markdown",
   "metadata": {},
   "source": [
    "# Question 2: What is currently your favorite fact about the ocean?"
   ]
  },
  {
   "cell_type": "markdown",
   "metadata": {},
   "source": [
    "Type your answer in this Markdown cell."
   ]
  },
  {
   "cell_type": "markdown",
   "metadata": {},
   "source": [
    "# Question 3: What are some aspects about the ocean you want to learn about?"
   ]
  },
  {
   "cell_type": "markdown",
   "metadata": {},
   "source": [
    "Type your answer in this cell.  You may want to experiment with making a list using `+` or `-` signs and or numbers `1. `!"
   ]
  },
  {
   "cell_type": "markdown",
   "metadata": {},
   "source": [
    "# Question 4: What are some potential challenges you think may be in this course?"
   ]
  },
  {
   "cell_type": "markdown",
   "metadata": {},
   "source": [
    "Type your answer in this cell."
   ]
  },
  {
   "cell_type": "markdown",
   "metadata": {},
   "source": [
    "# Question 5: What is your EOS/math/science/programming background?"
   ]
  },
  {
   "cell_type": "markdown",
   "metadata": {},
   "source": [
    "Type your answer in this cell."
   ]
  },
  {
   "cell_type": "markdown",
   "metadata": {},
   "source": [
    "# Some first Python code and plots\n",
    "\n",
    "Everything below this line is *optional* after you have completed the Prelab assignment.  This content will be part of synchronous Lab.\n",
    "\n",
    "***\n",
    "\n",
    "## Step 1: Import libraries"
   ]
  },
  {
   "cell_type": "code",
   "execution_count": null,
   "metadata": {},
   "outputs": [],
   "source": [
    "# Note that this type of cell is a \"Code\" cell, \n",
    "# selected in the drop down menu above.  The other\n",
    "# cells so far in this notebook are \"Markdown\" cell\n",
    "# types.  All lines that begin with # are comments\n",
    "# and effectively ignored by the computer.\n",
    "\n",
    "# Python code often starts with the importing of\n",
    "# libraries: additional code that is available for\n",
    "# use but you need to tell this notebook you want it.\n",
    "# Libraries are a great way to organize and streamline\n",
    "# code.  Some of them are really big and complicated\n",
    "# and others are small.  For an example of a small\n",
    "# library, the code in  load_glider_data is actually\n",
    "# in this repository (see the .py file). If a block of \n",
    "# code is used multiple times, instead of copying the \n",
    "# code many times throughout the notebook, it can be\n",
    "# defined once and (re)used elsewhere.  For our \n",
    "# purposes here, you don't need to understand how this \n",
    "# external code works but you'll want to use it below. \n",
    "\n",
    "#=================================================================\n",
    "# Give the notebook access to some useful plotting\n",
    "# tools.  Matplotlib is a library of plotting tools.\n",
    "# One particular aspect of Matplotlib is being\n",
    "# imported here and it is given a shorthand name\n",
    "# (i.e. an alias or shortcut) as \"plt\" to simplify\n",
    "# coding later.\n",
    "import matplotlib.pyplot as plt\n",
    "\n",
    "#=================================================================\n",
    "# Same thing here for three other useful libraries,\n",
    "# Pandas, Numpy, and load_glider_data.  We'll go over \n",
    "# what do in more detail as needed.\n",
    "import pandas as pd\n",
    "import numpy as np\n",
    "import load_glider_data as sg"
   ]
  },
  {
   "cell_type": "markdown",
   "metadata": {},
   "source": [
    "## Step 2: Temperature and salinity profile plots!\n",
    "\n",
    "**Profile plots** reflect how a property changes with depth in the ocean.  To make the plot more visually intuitive, depth is on the vertical axis (up is positive) and the property is on the horizontal axis."
   ]
  },
  {
   "cell_type": "code",
   "execution_count": null,
   "metadata": {},
   "outputs": [],
   "source": [
    "# Load the data from dive 1227.\n",
    "# lon = current longitude\n",
    "# lat = current latitude\n",
    "# de = depth [m]\n",
    "# te = temperature [deg C]\n",
    "# sa = salinity [g salt/kg seawater = \"per mil\"]\n",
    "# th = potential temperature (temperature corrected for compressibility)\n",
    "# s0 = potential density anomaly (density corrected for compressibility, subtract 1000 kg/m^3)\n",
    "lon, lat, de, te, sa, th, s0 = sg.load_hb_profile(605,1227)\n",
    "\n",
    "# These lines are a template for making an x,y plot.\n",
    "# Start by initializing an axis.\n",
    "fig, ax = plt.subplots()\n",
    "\n",
    "# Next plot the data.  You can change the\n",
    "# line type and color by changing the\n",
    "# elements in 'k.-'.  Try b, g, r instead\n",
    "# of k!\n",
    "ax.plot(te,-1*de,'k.')\n",
    "\n",
    "# It's really important to label the plot!\n",
    "ax.set_xlabel('Temperature [deg C]')\n",
    "ax.set_ylabel('Depth [m]')\n",
    "ax.set_title('Seaglider temperature profile')\n",
    "\n",
    "# You can overlay and label additional data\n",
    "# as needed.\n",
    "lon, lat, de, te, sa, th, s0 = sg.load_hb_profile(605,1236)\n",
    "ax.plot(te,-1*de,'r.')\n",
    "ax.legend(['Dive 1227','Dive 1236'])"
   ]
  },
  {
   "cell_type": "code",
   "execution_count": null,
   "metadata": {},
   "outputs": [],
   "source": [
    "# Cool!  But what about salinity and density?\n",
    "# Here is a template for making plot subpanels.\n",
    "# Note that there is no need to reload the data;\n",
    "# variables are automatically transferred from\n",
    "# cell-to-cell.\n",
    "fig, (ax0, ax1, ax2) = plt.subplots(1,3,figsize=(20,5))\n",
    "\n",
    "ax0.plot(te,-1*de,'k.')\n",
    "ax0.set_xlabel('Temperature [deg C]')\n",
    "ax0.set_ylabel('Depth [m]')\n",
    "ax0.set_title('Seaglider temperature profile')\n",
    "\n",
    "ax1.plot(sa,-1*de,'k.')\n",
    "ax1.set_xlabel('Salinity [g/kg]')\n",
    "ax1.set_ylabel('Depth [m]')\n",
    "ax1.set_title('Seaglider salinity profile')\n",
    "\n",
    "ax2.plot(s0,-1*de,'k.')\n",
    "ax2.set_xlabel('Potential density anomaly [kg/m^3]')\n",
    "ax2.set_ylabel('Depth [m]')\n",
    "ax2.set_title('Seaglider density profile')"
   ]
  },
  {
   "cell_type": "markdown",
   "metadata": {},
   "source": [
    "To see which dives are available for plotting, open a terminal and use the following command to list the files:\n",
    "```bash\n",
    "ls -1 /mnt/courses/eos1505/sg605/*.hb\n",
    "```\n",
    "\n",
    "This list will grow over time as the glider mission continues.  The files are named with the convention `p<sss><dddd>.hb` where `sss` is the Seaglider ID (605 for now) and `dddd` is the dive number.  It turns out that these Hydrobase (`.hb`) format files are really just text files - you can browse them and view their contents with the JupyterHub graphical user interface, too!"
   ]
  },
  {
   "cell_type": "markdown",
   "metadata": {},
   "source": [
    "## Step 3: Maps with scatter and contour plots!\n",
    "\n",
    "Where is that Seaglider anyway?!  To answer this question, here we overlay two important types of plots:\n",
    "1. **scatter plots** where the symbol size/color of x,y data points correspond to (an)other variable(s) and\n",
    "2. **contour plots** where contour lines are determined based on the values of some other variable (e.g. seafloor depth) at each x,y data point."
   ]
  },
  {
   "cell_type": "code",
   "execution_count": null,
   "metadata": {},
   "outputs": [],
   "source": [
    "# This command reads the file at the given location\n",
    "# (in this case, in our class data directory on the\n",
    "# HPC grid) and puts that data into the python variable\n",
    "# glider_xyd.  I called it _xyd because it has longitude,\n",
    "# latitude, and seafloor depth at every dive of the glider.\n",
    "glider_xyd = np.loadtxt(\n",
    "    '/mnt/courses/eos1505/sg605/sg605.xyd.csv',\n",
    "    delimiter=',')\n",
    "\n",
    "# And here you can preview the data to make certain it\n",
    "# is what you think it is.\n",
    "print(glider_xyd)\n",
    "\n",
    "# Load a global topography dataset to compare the\n",
    "# soundings from the Seaglider to the big picture.\n",
    "x,y,topo = sg.load_topo()\n",
    "\n",
    "# Set up the plotting space\n",
    "fig, ax = plt.subplots()\n",
    "\n",
    "# Contour the global topography dataset at the\n",
    "# specified contour lines.\n",
    "ax.contour(x,y,topo,\n",
    "    [-4000,-3500,-3000,-2500,-2000,-1500,-1000,-500,0,500,1000],\n",
    "    colors='black',\n",
    "    linewidths=0.5)\n",
    "\n",
    "# Scatter plot the glider positions and water \n",
    "# depth at those locations.\n",
    "im = ax.scatter(\n",
    "    glider_xyd[:,0],\n",
    "    glider_xyd[:,1],\n",
    "    10,\n",
    "    glider_xyd[:,2],\n",
    "    cmap='Spectral')\n",
    "\n",
    "# Plot the colorbar\n",
    "fig.colorbar(im, ax=ax)\n",
    "\n",
    "# Plot the position associated with the \n",
    "# profile plots made above.\n",
    "ax.plot(lon,lat,'k+')\n",
    "\n",
    "# Label your plot.\n",
    "ax.set_xlabel('Longitude')\n",
    "ax.set_ylabel('Latitude')\n",
    "ax.set_title('Seaglider track')\n",
    "\n",
    "# Zoom in to the region of interest\n",
    "# (Feel free to experiment with these values!)\n",
    "ax.set_xlim(-15,0)\n",
    "ax.set_ylim(55,60)"
   ]
  },
  {
   "cell_type": "markdown",
   "metadata": {},
   "source": [
    "# Step 4: Discussion questions\n",
    "\n",
    "In the Markdown cells below, please answer the following questions:\n",
    "\n",
    "1. List one difference and one similarity between the profile plots here and the schematic profile plot shown in Seager, [Chapter 1](https://www.reefimages.com/oceans/SegarOcean4Chap01.pdf), Fig. 1-2a."
   ]
  },
  {
   "cell_type": "markdown",
   "metadata": {},
   "source": [
    "Type your answer here!"
   ]
  },
  {
   "cell_type": "markdown",
   "metadata": {},
   "source": [
    "2. Based on the contour lines in your map figure and the [Seaglider animation](https://www.youtube.com/watch?v=w6vONiftikc&feature=emb_logo), describe the shape of the ocean floor in the waters around Scotland compared to the waters farther out."
   ]
  },
  {
   "cell_type": "markdown",
   "metadata": {},
   "source": [
    "Type your answer here!"
   ]
  },
  {
   "cell_type": "markdown",
   "metadata": {},
   "source": [
    "# Example of a deliberate mistake"
   ]
  },
  {
   "cell_type": "code",
   "execution_count": null,
   "metadata": {},
   "outputs": [],
   "source": [
    "# Jupyter notebooks will also save error\n",
    "# messages!  If you have trouble, save\n",
    "# your notebook as it is and share with\n",
    "# your instructor or colleague for help\n",
    "# debugging.  Maybe you can figure out\n",
    "# what's wrong; look for clues in the\n",
    "# bottom line of the error message!\n",
    "\n",
    "copy_of_x = a"
   ]
  },
  {
   "cell_type": "markdown",
   "metadata": {},
   "source": [
    "# More details on the steps for loading data\n",
    "\n",
    "***Optional:*** You are welcome to look at the `load_glider_data.py` file that is distributed with this notebook.  The code in this file is loaded at the beginning of the notebook for your use throughout the notebook."
   ]
  },
  {
   "cell_type": "markdown",
   "metadata": {},
   "source": [
    "# Instructions for making a commit and pushing your code to GitHub\n",
    "\n",
    "**Everything in the following section is OPTIONAL.**  The goal is to provide you with another way to collaborate and share code; if this process feels overwhelming you can safely ignore this section.\n",
    "\n",
    "The following terminal commands (\\#-prefixed text are comments describing each line) are how to \"save\" and push your code to GitHub.  On your repository's GitHub page, you can choose who can access your code if you would like to share it with your peers for collaboration.  Course instructors have access to your repository by default.  Since Jupyter notebooks save error messages as well as other output, pushing a commit to GitHub is a great way to share the state of your code for troubleshooting error messages and debugging.\n",
    "\n",
    "```bash\n",
    "cd HW01-intro-<your_username>.git   # Change into the repository directory\n",
    "git add .                           # Stage the changes you've made -> take a snapshot\n",
    "git commit -m \"Short message here\"  # Commit your changes, including a short description in quotes\n",
    "git push origin                     # Push changes back up to GitHub\n",
    "```\n",
    "\n",
    "## Some details when using `git commit`.\n",
    "\n",
    "If you choose to use `git commit` you'll need to first tell git who you are.\n",
    "It needs to know your name and email.  In this repository, the `git_setup.sh`\n",
    "will prompt you for this information and you'll be all set up.  To run the\n",
    "script, at the terminal prompt, enter:\n",
    "\n",
    "```bash\n",
    "./git_setup.sh\n",
    "```\n",
    "\n",
    "If you don't want to provide your actual e-mail, it will still work if you\n",
    "enter any text at all (just no spaces or non-alphabetical characters). \n",
    "For example, `aaa` works too!\n",
    "\n",
    "If you choose to use `git commit` without the `-m` option, you will \n",
    "need to enter text to describe the changes you made using the vi text \n",
    "editor.  To do this,\n",
    "\n",
    "1. press `a` to enter edit mode and add text,\n",
    "2. type a short description of your changes,\n",
    "3. press `Esc` to get out of edit mode,\n",
    "4. type `:w` to save your changes to the commit file, and\n",
    "5. type `:q` to quit vi.\n",
    "\n",
    "While vi feels clunky, this basic skill is helpful as vi is present on lots of computer systems, especially the ones used to interact with autonomous underwater vehicles.  The files that control the behavior of these underwater robots are often modified with vi.  Frankly, steps 1-5 above are the only vi commands I know, but [they are enough to pilot a Seaglider 3,400 km](https://phys.org/news/2015-07-robotic-gliders-herald-sea-ocean.html)."
   ]
  }
 ],
 "metadata": {
  "kernelspec": {
   "display_name": "Python 3.6",
   "language": "python",
   "name": "python3.6"
  },
  "language_info": {
   "codemirror_mode": {
    "name": "ipython",
    "version": 3
   },
   "file_extension": ".py",
   "mimetype": "text/x-python",
   "name": "python",
   "nbconvert_exporter": "python",
   "pygments_lexer": "ipython3",
   "version": "3.6.9"
  }
 },
 "nbformat": 4,
 "nbformat_minor": 2
}
